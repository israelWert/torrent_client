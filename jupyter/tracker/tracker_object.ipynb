{
 "cells": [
  {
   "cell_type": "code",
   "execution_count": 1,
   "id": "d4064908-1013-4067-be31-cef0236f640a",
   "metadata": {},
   "outputs": [],
   "source": [
    "import os\n",
    "os.chdir(r\"C:\\Users\\Israel\\Documents\\code\\python\\torrent_client\")"
   ]
  },
  {
   "cell_type": "code",
   "execution_count": 2,
   "id": "88b428cd-f05e-4c12-9a28-7b8bb07af790",
   "metadata": {},
   "outputs": [
    {
     "name": "stdout",
     "output_type": "stream",
     "text": [
      "torrent_client.client - INFO - 17 ************* start download *************\t\n",
      "torrent_client.client - INFO - 19 the file 3.torrent was decoded successfully\t\n",
      "torrent_client.client - INFO - 21 ************* end client *************\t\n"
     ]
    }
   ],
   "source": [
    "from torrent_client import client\n",
    "import importlib\n",
    "\n",
    "importlib.reload(client)\n",
    "c = client.Client(\"3.torrent\")\n",
    "file = c.download()\n"
   ]
  },
  {
   "cell_type": "code",
   "execution_count": 3,
   "id": "872cbb1f-ca2c-456b-a51e-939e6eed7efa",
   "metadata": {},
   "outputs": [],
   "source": [
    "import os\n",
    "\n",
    "def generate_peer_id():\n",
    "    return os.urandom(20)"
   ]
  },
  {
   "cell_type": "code",
   "execution_count": 4,
   "id": "fcdaf8b2-536b-47a6-a84e-ef7c43c56877",
   "metadata": {},
   "outputs": [
    {
     "data": {
      "text/plain": [
       "['https://torrent.ubuntu.com/announce',\n",
       " 'https://ipv6.torrent.ubuntu.com/announce']"
      ]
     },
     "execution_count": 4,
     "metadata": {},
     "output_type": "execute_result"
    }
   ],
   "source": [
    "file.announce_list"
   ]
  },
  {
   "cell_type": "code",
   "execution_count": 5,
   "id": "78a7910b-110f-4225-b671-9d22b52ec30d",
   "metadata": {},
   "outputs": [],
   "source": [
    "from torrent_client.tracker.net.udp_net.async_udp_client import AsyncUdpClient\n",
    "client = AsyncUdpClient()"
   ]
  },
  {
   "cell_type": "code",
   "execution_count": 6,
   "id": "29c7d3fc-1420-446f-b1f2-0cb74ac7de8e",
   "metadata": {},
   "outputs": [],
   "source": [
    "from torrent_client.tracker import tracker, tracker_logic\n",
    "from torrent_client.tracker.net.http_tracker import HttpTracker\n",
    "from torrent_client.tracker.test.fakes.fake_tracker_bridge import FakeTrackerBridge\n",
    "\n",
    "a = HttpTracker(\"https://torrent.ubuntu.com/announce\")\n",
    "await  a.__aenter__()\n",
    "logic = tracker_logic.TrackerLogic(file, generate_peer_id())\n"
   ]
  },
  {
   "cell_type": "code",
   "execution_count": 7,
   "id": "2e190728-cf32-4815-b4e3-ed268247c8b6",
   "metadata": {},
   "outputs": [
    {
     "name": "stdout",
     "output_type": "stream",
     "text": [
      "[OrderedDict([('ip', '2a06:4005:60b6:20::2'), ('peer id', '-TR4030-19n7sxlshg5s'), ('port', 51413)]), OrderedDict([('ip', '2604:a880:cad:d0::537:6001'), ('peer id', b'-lt0D80-\\xb2\\x11\\xa9\\xff\\x0bF\\xbcwq)`\\xa6'), ('port', 51150)]), OrderedDict([('ip', '185.125.190.59'), ('peer id', 'T03I--00zoFSQzqAn8X-'), ('port', 6924)])]\n"
     ]
    }
   ],
   "source": [
    "req = logic.update(0, 0)\n",
    "await a.send_message(req)"
   ]
  },
  {
   "cell_type": "code",
   "execution_count": 8,
   "id": "5f4639cd-1740-4ca6-93b4-ba50633cd00d",
   "metadata": {},
   "outputs": [
    {
     "data": {
      "text/plain": [
       "TrackerResponse(interval=1800, peers=[{'ip': '2a06:4005:60b6:20::2', 'port': 51413}, {'ip': '2604:a880:cad:d0::537:6001', 'port': 51150}, {'ip': '185.125.190.59', 'port': 6924}])"
      ]
     },
     "execution_count": 8,
     "metadata": {},
     "output_type": "execute_result"
    }
   ],
   "source": [
    "await a.get_response()"
   ]
  },
  {
   "cell_type": "code",
   "execution_count": null,
   "id": "bafbb890-9fe0-49b4-89be-96587274b1ce",
   "metadata": {},
   "outputs": [],
   "source": [
    "from torrent_client.tracker.udp_net.udp_tracker_messages import ConnectMessage, ConnectResponse\n",
    "message = ConnectMessage(0x41727101980, 12).pack_requisite() \n",
    "print(message)\n",
    "client.send_message(message, (a.ip, a.port))\n"
   ]
  },
  {
   "cell_type": "code",
   "execution_count": 32,
   "id": "d41256c8-b95d-4bd0-ae65-ff955b3c3974",
   "metadata": {},
   "outputs": [
    {
     "ename": "error",
     "evalue": "unpack requires a buffer of 4 bytes",
     "output_type": "error",
     "traceback": [
      "\u001b[1;31m---------------------------------------------------------------------------\u001b[0m",
      "\u001b[1;31merror\u001b[0m                                     Traceback (most recent call last)",
      "\u001b[1;32m~\\AppData\\Local\\Temp\\ipykernel_33292\\575796839.py\u001b[0m in \u001b[0;36m<module>\u001b[1;34m\u001b[0m\n\u001b[1;32m----> 1\u001b[1;33m \u001b[1;32mraise\u001b[0m \u001b[0ma\u001b[0m\u001b[1;33m.\u001b[0m\u001b[0m_task\u001b[0m\u001b[1;33m.\u001b[0m\u001b[0mexception\u001b[0m\u001b[1;33m(\u001b[0m\u001b[1;33m)\u001b[0m\u001b[1;33m\u001b[0m\u001b[1;33m\u001b[0m\u001b[0m\n\u001b[0m",
      "\u001b[1;32m~\\Documents\\code\\python\\torrent_client\\torrent_client\\tracker\\udp_net\\udp_tracker.py\u001b[0m in \u001b[0;36m_send_request\u001b[1;34m(self, req, with_response)\u001b[0m\n\u001b[0;32m     68\u001b[0m             \u001b[1;32mreturn\u001b[0m\u001b[1;33m\u001b[0m\u001b[1;33m\u001b[0m\u001b[0m\n\u001b[0;32m     69\u001b[0m         \u001b[1;32mif\u001b[0m \u001b[1;32mnot\u001b[0m \u001b[0mself\u001b[0m\u001b[1;33m.\u001b[0m\u001b[0m_connection_id\u001b[0m\u001b[1;33m:\u001b[0m\u001b[1;33m\u001b[0m\u001b[1;33m\u001b[0m\u001b[0m\n\u001b[1;32m---> 70\u001b[1;33m             \u001b[1;32mawait\u001b[0m \u001b[0mself\u001b[0m\u001b[1;33m.\u001b[0m\u001b[0m_connect\u001b[0m\u001b[1;33m(\u001b[0m\u001b[1;33m)\u001b[0m\u001b[1;33m\u001b[0m\u001b[1;33m\u001b[0m\u001b[0m\n\u001b[0m\u001b[0;32m     71\u001b[0m             \u001b[0mlogger\u001b[0m\u001b[1;33m.\u001b[0m\u001b[0minfo\u001b[0m\u001b[1;33m(\u001b[0m\u001b[1;34m\"connection was established\"\u001b[0m\u001b[1;33m)\u001b[0m\u001b[1;33m\u001b[0m\u001b[1;33m\u001b[0m\u001b[0m\n\u001b[0;32m     72\u001b[0m         \u001b[0mself\u001b[0m\u001b[1;33m.\u001b[0m\u001b[0m_response\u001b[0m \u001b[1;33m=\u001b[0m \u001b[1;32mawait\u001b[0m \u001b[0mself\u001b[0m\u001b[1;33m.\u001b[0m\u001b[0m_announce\u001b[0m\u001b[1;33m(\u001b[0m\u001b[0mreq\u001b[0m\u001b[1;33m,\u001b[0m \u001b[0mwith_response\u001b[0m\u001b[1;33m)\u001b[0m\u001b[1;33m\u001b[0m\u001b[1;33m\u001b[0m\u001b[0m\n",
      "\u001b[1;32m~\\Documents\\code\\python\\torrent_client\\torrent_client\\tracker\\udp_net\\udp_tracker.py\u001b[0m in \u001b[0;36m_connect\u001b[1;34m(self)\u001b[0m\n\u001b[0;32m     79\u001b[0m         )\n\u001b[0;32m     80\u001b[0m         \u001b[0mresponse\u001b[0m \u001b[1;33m=\u001b[0m \u001b[1;32mawait\u001b[0m \u001b[0mself\u001b[0m\u001b[1;33m.\u001b[0m\u001b[0m_send_recv_reliable\u001b[0m\u001b[1;33m(\u001b[0m\u001b[0mmessage\u001b[0m\u001b[1;33m.\u001b[0m\u001b[0mpack_requisite\u001b[0m\u001b[1;33m(\u001b[0m\u001b[1;33m)\u001b[0m\u001b[1;33m,\u001b[0m \u001b[0mmessage\u001b[0m\u001b[1;33m.\u001b[0m\u001b[0mtransaction_id\u001b[0m\u001b[1;33m)\u001b[0m\u001b[1;33m\u001b[0m\u001b[1;33m\u001b[0m\u001b[0m\n\u001b[1;32m---> 81\u001b[1;33m         \u001b[0mresponse\u001b[0m \u001b[1;33m=\u001b[0m \u001b[0mConnectResponse\u001b[0m\u001b[1;33m.\u001b[0m\u001b[0mencode\u001b[0m\u001b[1;33m(\u001b[0m\u001b[0mresponse\u001b[0m\u001b[1;33m.\u001b[0m\u001b[0mpayload\u001b[0m\u001b[1;33m)\u001b[0m\u001b[1;33m\u001b[0m\u001b[1;33m\u001b[0m\u001b[0m\n\u001b[0m\u001b[0;32m     82\u001b[0m         \u001b[0mself\u001b[0m\u001b[1;33m.\u001b[0m\u001b[0m_connection_id\u001b[0m \u001b[1;33m=\u001b[0m \u001b[0mresponse\u001b[0m\u001b[1;33m.\u001b[0m\u001b[0m_connection_id\u001b[0m\u001b[1;33m\u001b[0m\u001b[1;33m\u001b[0m\u001b[0m\n\u001b[0;32m     83\u001b[0m \u001b[1;33m\u001b[0m\u001b[0m\n",
      "\u001b[1;32m~\\Documents\\code\\python\\torrent_client\\torrent_client\\tracker\\udp_net\\udp_tracker_messages.py\u001b[0m in \u001b[0;36mencode\u001b[1;34m(cls, payload)\u001b[0m\n\u001b[0;32m     38\u001b[0m     \u001b[1;33m@\u001b[0m\u001b[0mclassmethod\u001b[0m\u001b[1;33m\u001b[0m\u001b[1;33m\u001b[0m\u001b[0m\n\u001b[0;32m     39\u001b[0m     \u001b[1;32mdef\u001b[0m \u001b[0mencode\u001b[0m\u001b[1;33m(\u001b[0m\u001b[0mcls\u001b[0m\u001b[1;33m,\u001b[0m \u001b[0mpayload\u001b[0m\u001b[1;33m:\u001b[0m \u001b[0mbytes\u001b[0m\u001b[1;33m)\u001b[0m\u001b[1;33m:\u001b[0m\u001b[1;33m\u001b[0m\u001b[1;33m\u001b[0m\u001b[0m\n\u001b[1;32m---> 40\u001b[1;33m         \u001b[1;32mreturn\u001b[0m \u001b[0mcls\u001b[0m\u001b[1;33m(\u001b[0m\u001b[1;33m*\u001b[0m\u001b[0mcls\u001b[0m\u001b[1;33m.\u001b[0m\u001b[0mencoder\u001b[0m\u001b[1;33m.\u001b[0m\u001b[0munpack\u001b[0m\u001b[1;33m(\u001b[0m\u001b[0mpayload\u001b[0m\u001b[1;33m)\u001b[0m\u001b[1;33m)\u001b[0m\u001b[1;33m\u001b[0m\u001b[1;33m\u001b[0m\u001b[0m\n\u001b[0m\u001b[0;32m     41\u001b[0m \u001b[1;33m\u001b[0m\u001b[0m\n\u001b[0;32m     42\u001b[0m \u001b[1;33m\u001b[0m\u001b[0m\n",
      "\u001b[1;31merror\u001b[0m: unpack requires a buffer of 4 bytes"
     ]
    }
   ],
   "source": [
    "raise a._task.exception()"
   ]
  },
  {
   "cell_type": "code",
   "execution_count": 19,
   "id": "7e328659-d456-44ea-80b1-c386422325b8",
   "metadata": {},
   "outputs": [
    {
     "name": "stdout",
     "output_type": "stream",
     "text": [
      "1\n"
     ]
    }
   ],
   "source": [
    "print(1)"
   ]
  }
 ],
 "metadata": {
  "kernelspec": {
   "display_name": "Python 3 (ipykernel)",
   "language": "python",
   "name": "python3"
  },
  "language_info": {
   "codemirror_mode": {
    "name": "ipython",
    "version": 3
   },
   "file_extension": ".py",
   "mimetype": "text/x-python",
   "name": "python",
   "nbconvert_exporter": "python",
   "pygments_lexer": "ipython3",
   "version": "3.9.7"
  }
 },
 "nbformat": 4,
 "nbformat_minor": 5
}
