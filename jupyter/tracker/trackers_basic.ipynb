{
 "cells": [
  {
   "cell_type": "code",
   "execution_count": 1,
   "id": "49c562c8-ce21-461d-93d8-29601cd90bd3",
   "metadata": {},
   "outputs": [],
   "source": [
    "import os\n",
    "os.chdir(r\"C:\\Users\\Israel\\Documents\\code\\python\\torrent_client\")"
   ]
  },
  {
   "cell_type": "code",
   "execution_count": 2,
   "id": "c09c9e2a-91fa-49af-bb96-9cf8bc282413",
   "metadata": {},
   "outputs": [
    {
     "name": "stdout",
     "output_type": "stream",
     "text": [
      "torrent_client.client - INFO - 16 ************* start download *************\t\n",
      "torrent_client.client - INFO - 18 the file 3.torrent was decoded successfully\t\n",
      "torrent_client.client - INFO - 20 ************* end client *************\t\n"
     ]
    }
   ],
   "source": [
    "from torrent_client import client\n",
    "import importlib\n",
    "\n",
    "importlib.reload(client)\n",
    "c = client.Client(\"3.torrent\")\n",
    "file = c.download()\n"
   ]
  },
  {
   "cell_type": "code",
   "execution_count": 3,
   "id": "59856a72-17bf-4112-8236-2e5b7b04e1b4",
   "metadata": {},
   "outputs": [
    {
     "data": {
      "text/plain": [
       "'https://torrent.ubuntu.com/announce'"
      ]
     },
     "execution_count": 3,
     "metadata": {},
     "output_type": "execute_result"
    }
   ],
   "source": [
    "file.announce_list[0][0\n",
    "                     ]"
   ]
  },
  {
   "cell_type": "code",
   "execution_count": 4,
   "id": "bf6caf45-c504-442c-b208-2e251792fce4",
   "metadata": {},
   "outputs": [],
   "source": [
    "new_announce = list(filter(lambda x: \"udp\" in x, file.announce_list[0][0]))\n",
    "announce_list = [a[0] for a in new_announce]"
   ]
  },
  {
   "cell_type": "code",
   "execution_count": 5,
   "id": "b24f950a-e0c8-471e-aa6f-2631215b6c99",
   "metadata": {},
   "outputs": [
    {
     "data": {
      "text/plain": [
       "[]"
      ]
     },
     "execution_count": 5,
     "metadata": {},
     "output_type": "execute_result"
    }
   ],
   "source": [
    "announce_list"
   ]
  },
  {
   "cell_type": "code",
   "execution_count": 8,
   "id": "4c62432b-ef76-48d6-b25d-ade5e2dd61b8",
   "metadata": {},
   "outputs": [],
   "source": [
    "import os\n",
    "\n",
    "def generate_peer_id():\n",
    "    return os.urandom(20)"
   ]
  },
  {
   "cell_type": "code",
   "execution_count": 9,
   "id": "2f2568d3-065b-48a7-83bf-a2d6234a164b",
   "metadata": {},
   "outputs": [],
   "source": [
    "import socket\n",
    "from torrent_client.tracker.tracker_logic import TrackerLogic\n",
    "tl = TrackerLogic(file, generate_peer_id())\n",
    "soc = socket.socket(family=socket.AF_INET, type=socket.SOCK_DGRAM)"
   ]
  },
  {
   "cell_type": "code",
   "execution_count": 13,
   "id": "3b0adbfe-0f7d-4b12-9d53-af36eaacaadd",
   "metadata": {},
   "outputs": [],
   "source": [
    "ip = \"45.154.253.8\"\n",
    "port = 80"
   ]
  },
  {
   "cell_type": "code",
   "execution_count": 14,
   "id": "053e7918-4bae-450a-b87c-f6c4f99b56c5",
   "metadata": {},
   "outputs": [
    {
     "ename": "ModuleNotFoundError",
     "evalue": "No module named 'torrent_client.tracker.udp_net.udp_tracker_message'",
     "output_type": "error",
     "traceback": [
      "\u001b[1;31m---------------------------------------------------------------------------\u001b[0m",
      "\u001b[1;31mModuleNotFoundError\u001b[0m                       Traceback (most recent call last)",
      "\u001b[1;32m~\\AppData\\Local\\Temp\\ipykernel_22140\\1380580211.py\u001b[0m in \u001b[0;36m<module>\u001b[1;34m\u001b[0m\n\u001b[1;32m----> 1\u001b[1;33m \u001b[1;32mfrom\u001b[0m \u001b[0mtorrent_client\u001b[0m\u001b[1;33m.\u001b[0m\u001b[0mtracker\u001b[0m\u001b[1;33m.\u001b[0m\u001b[0mudp_net\u001b[0m\u001b[1;33m.\u001b[0m\u001b[0mudp_tracker_message\u001b[0m \u001b[1;32mimport\u001b[0m \u001b[0mConnectTrackerMessage\u001b[0m\u001b[1;33m,\u001b[0m \u001b[0mConnectResponse\u001b[0m\u001b[1;33m\u001b[0m\u001b[1;33m\u001b[0m\u001b[0m\n\u001b[0m\u001b[0;32m      2\u001b[0m \u001b[1;33m\u001b[0m\u001b[0m\n\u001b[0;32m      3\u001b[0m \u001b[0mmes\u001b[0m \u001b[1;33m=\u001b[0m \u001b[0mConnectTrackerMessage\u001b[0m\u001b[1;33m(\u001b[0m\u001b[1;36m0x41727101980\u001b[0m\u001b[1;33m,\u001b[0m \u001b[1;36m3454325\u001b[0m\u001b[1;33m)\u001b[0m\u001b[1;33m\u001b[0m\u001b[1;33m\u001b[0m\u001b[0m\n\u001b[0;32m      4\u001b[0m \u001b[1;33m\u001b[0m\u001b[0m\n\u001b[0;32m      5\u001b[0m \u001b[0msoc\u001b[0m\u001b[1;33m.\u001b[0m\u001b[0msendto\u001b[0m\u001b[1;33m(\u001b[0m\u001b[0mmes\u001b[0m\u001b[1;33m.\u001b[0m\u001b[0mpack_requisite\u001b[0m\u001b[1;33m(\u001b[0m\u001b[1;33m)\u001b[0m\u001b[1;33m,\u001b[0m \u001b[1;33m(\u001b[0m\u001b[0mip\u001b[0m\u001b[1;33m,\u001b[0m \u001b[0mport\u001b[0m\u001b[1;33m)\u001b[0m\u001b[1;33m)\u001b[0m\u001b[1;33m\u001b[0m\u001b[1;33m\u001b[0m\u001b[0m\n",
      "\u001b[1;31mModuleNotFoundError\u001b[0m: No module named 'torrent_client.tracker.udp_net.udp_tracker_message'"
     ]
    }
   ],
   "source": [
    "from torrent_client.tracker.udp_net.udp_tracker_message import ConnectTrackerMessage, ConnectResponse\n",
    "\n",
    "mes = ConnectTrackerMessage(0x41727101980, 3454325)\n",
    "\n",
    "soc.sendto(mes.pack_requisite(), (ip, port))\n",
    "res = soc.recvfrom(1024)"
   ]
  },
  {
   "cell_type": "code",
   "execution_count": 12,
   "id": "5604fe89-476f-4f05-b657-a7ae31c49663",
   "metadata": {},
   "outputs": [
    {
     "ename": "NameError",
     "evalue": "name 'res' is not defined",
     "output_type": "error",
     "traceback": [
      "\u001b[1;31m---------------------------------------------------------------------------\u001b[0m",
      "\u001b[1;31mNameError\u001b[0m                                 Traceback (most recent call last)",
      "\u001b[1;32m~\\AppData\\Local\\Temp\\ipykernel_22140\\1826134274.py\u001b[0m in \u001b[0;36m<module>\u001b[1;34m\u001b[0m\n\u001b[1;32m----> 1\u001b[1;33m \u001b[0mres\u001b[0m \u001b[1;33m=\u001b[0m \u001b[0mres\u001b[0m\u001b[1;33m[\u001b[0m\u001b[1;36m0\u001b[0m\u001b[1;33m]\u001b[0m\u001b[1;33m\u001b[0m\u001b[1;33m\u001b[0m\u001b[0m\n\u001b[0m",
      "\u001b[1;31mNameError\u001b[0m: name 'res' is not defined"
     ]
    }
   ],
   "source": [
    "res = res[0]"
   ]
  },
  {
   "cell_type": "code",
   "execution_count": 11,
   "id": "0d370dde-d63f-4b5d-abe7-a6233f7f9f1d",
   "metadata": {},
   "outputs": [],
   "source": [
    "res = ConnectResponse(*mes.check_and_unpack_response(res))"
   ]
  },
  {
   "cell_type": "code",
   "execution_count": 12,
   "id": "8b270ee9-72de-4f68-9033-26b427170abb",
   "metadata": {},
   "outputs": [
    {
     "data": {
      "text/plain": [
       "ConnectResponse(action=0, transaction_id=3454325, connection_id=14543567554835213131)"
      ]
     },
     "execution_count": 12,
     "metadata": {},
     "output_type": "execute_result"
    }
   ],
   "source": [
    "res"
   ]
  },
  {
   "cell_type": "code",
   "execution_count": 13,
   "id": "21031acd-5359-4064-aa1c-63c3277d0c48",
   "metadata": {},
   "outputs": [
    {
     "name": "stdout",
     "output_type": "stream",
     "text": [
      "TrackerRequest(info_hash=b'\\x99\\xc8+\\xb75\\x05\\xa3\\xc0\\xb4S\\xf9\\xfa\\x0e\\x88\\x1dnZ2\\xa0\\xc1', peer_id=b\"^G'C\\xb1\\xe4\\xf4n\\x80+w\\xbe_\\xec\\xba.\\xe1P\\xb3\\xc5\", port=6881, uploaded=0, downloaded=0, left=4071903232, event='start')\n"
     ]
    }
   ],
   "source": [
    "from torrent_client.tracker.udp_net.udp_tracker_message import AnnounceTrackerMessage, AnnounceResponse\n",
    "tl = TrackerLogic(file, generate_peer_id())\n",
    "req = tl.update(0, 0)\n",
    "print(req)"
   ]
  },
  {
   "cell_type": "code",
   "execution_count": 38,
   "id": "b18937a8-18a7-4935-a6b2-0537db03ec54",
   "metadata": {},
   "outputs": [
    {
     "data": {
      "text/plain": [
       "b\"\\x00\\x00\\x04\\x17'\\x10\\x19\\x80\\x00\\x00\\x00\\x00\\x00\\x00\\x00\\x0c\""
      ]
     },
     "execution_count": 38,
     "metadata": {},
     "output_type": "execute_result"
    }
   ],
   "source": [
    "ConnectMessage(0x41727101980, 12).pack_requisite() "
   ]
  },
  {
   "cell_type": "code",
   "execution_count": 14,
   "id": "6a2a8207-8c6c-45f9-889f-0cdde69690bd",
   "metadata": {},
   "outputs": [],
   "source": [
    "req.event = 1"
   ]
  },
  {
   "cell_type": "code",
   "execution_count": null,
   "id": "6bf34f84-ca18-4bc2-ae7c-036d25db65c3",
   "metadata": {},
   "outputs": [],
   "source": []
  },
  {
   "cell_type": "code",
   "execution_count": 4,
   "id": "d19473cf-b1ba-4378-99a4-7bb471dfef35",
   "metadata": {},
   "outputs": [
    {
     "ename": "NameError",
     "evalue": "name 'AnnounceTrackerMessage' is not defined",
     "output_type": "error",
     "traceback": [
      "\u001b[1;31m---------------------------------------------------------------------------\u001b[0m",
      "\u001b[1;31mNameError\u001b[0m                                 Traceback (most recent call last)",
      "\u001b[1;32m~\\AppData\\Local\\Temp\\ipykernel_22140\\1090883326.py\u001b[0m in \u001b[0;36m<module>\u001b[1;34m\u001b[0m\n\u001b[1;32m----> 1\u001b[1;33m \u001b[0mreq\u001b[0m \u001b[1;33m=\u001b[0m \u001b[0mAnnounceTrackerMessage\u001b[0m\u001b[1;33m(\u001b[0m\u001b[0mres\u001b[0m\u001b[1;33m.\u001b[0m\u001b[0mconnection_id\u001b[0m\u001b[1;33m,\u001b[0m \u001b[1;36m342523\u001b[0m\u001b[1;33m,\u001b[0m \u001b[0mreq\u001b[0m\u001b[1;33m)\u001b[0m\u001b[1;33m\u001b[0m\u001b[1;33m\u001b[0m\u001b[0m\n\u001b[0m",
      "\u001b[1;31mNameError\u001b[0m: name 'AnnounceTrackerMessage' is not defined"
     ]
    }
   ],
   "source": []
  },
  {
   "cell_type": "code",
   "execution_count": null,
   "id": "fed80e77-3e84-454d-9e5b-cad472161bf6",
   "metadata": {},
   "outputs": [],
   "source": []
  },
  {
   "cell_type": "code",
   "execution_count": 3,
   "id": "18cc4ede-f084-42b6-8f1f-2f72ceec2d55",
   "metadata": {},
   "outputs": [
    {
     "ename": "NameError",
     "evalue": "name 'req' is not defined",
     "output_type": "error",
     "traceback": [
      "\u001b[1;31m---------------------------------------------------------------------------\u001b[0m",
      "\u001b[1;31mNameError\u001b[0m                                 Traceback (most recent call last)",
      "\u001b[1;32m~\\AppData\\Local\\Temp\\ipykernel_22140\\3823017896.py\u001b[0m in \u001b[0;36m<module>\u001b[1;34m\u001b[0m\n\u001b[0;32m      2\u001b[0m \u001b[1;33m\u001b[0m\u001b[0m\n\u001b[0;32m      3\u001b[0m a = struct.pack(\">QLL20s20sQQQLLLlI\",\n\u001b[1;32m----> 4\u001b[1;33m                 \u001b[0mreq\u001b[0m\u001b[1;33m.\u001b[0m\u001b[0mconnection_id\u001b[0m\u001b[1;33m,\u001b[0m\u001b[1;33m\u001b[0m\u001b[1;33m\u001b[0m\u001b[0m\n\u001b[0m\u001b[0;32m      5\u001b[0m                 \u001b[1;36m1\u001b[0m\u001b[1;33m,\u001b[0m\u001b[1;33m\u001b[0m\u001b[1;33m\u001b[0m\u001b[0m\n\u001b[0;32m      6\u001b[0m                 \u001b[0mreq\u001b[0m\u001b[1;33m.\u001b[0m\u001b[0mtransaction_id\u001b[0m\u001b[1;33m,\u001b[0m\u001b[1;33m\u001b[0m\u001b[1;33m\u001b[0m\u001b[0m\n",
      "\u001b[1;31mNameError\u001b[0m: name 'req' is not defined"
     ]
    }
   ],
   "source": [
    "import struct\n",
    "\n",
    "a = struct.pack(\">QLL20s20sQQQLLLlI\",\n",
    "                req.connection_id,\n",
    "                1,\n",
    "                req.transaction_id,\n",
    "                req.req.info_hash,\n",
    "                req.req.peer_id,\n",
    "                req.req.downloaded,\n",
    "                req.req.left,\n",
    "                req.req.uploaded,\n",
    "                req.req.event,\n",
    "               0,\n",
    "               0,\n",
    "               -1,\n",
    "               9999)"
   ]
  },
  {
   "cell_type": "code",
   "execution_count": null,
   "id": "3b39bcd9-fe26-440e-b6fa-19634a7a409d",
   "metadata": {},
   "outputs": [],
   "source": []
  },
  {
   "cell_type": "code",
   "execution_count": 18,
   "id": "36e7d7ee-1945-48b4-b623-784786ff02ac",
   "metadata": {},
   "outputs": [
    {
     "name": "stdout",
     "output_type": "stream",
     "text": [
      "b\"\\xc9\\xd5!\\xa2\\xd0\\xd9kK\\x00\\x00\\x00\\x01\\x00\\x059\\xfb\\x99\\xc8+\\xb75\\x05\\xa3\\xc0\\xb4S\\xf9\\xfa\\x0e\\x88\\x1dnZ2\\xa0\\xc1^G'C\\xb1\\xe4\\xf4n\\x80+w\\xbe_\\xec\\xba.\\xe1P\\xb3\\xc5\\x00\\x00\\x00\\x00\\x00\\x00\\x00\\x00\\x00\\x00\\x00\\x00\\xf2\\xb4P\\x00\\x00\\x00\\x00\\x00\\x00\\x00\\x00\\x00\\x00\\x00\\x00\\x01\\x00\\x00\\x00\\x00\\x00\\x00\\x00\\x00\\xff\\xff\\xff\\xff\\x00\\x00'\\x0f\"\n"
     ]
    }
   ],
   "source": [
    "\n",
    "print(a)"
   ]
  },
  {
   "cell_type": "code",
   "execution_count": 19,
   "id": "302ead8b-4549-4b50-96f9-5efe79b82ff1",
   "metadata": {},
   "outputs": [],
   "source": [
    "import asyncio\n",
    "for i in range(5):\n",
    "    soc.sendto(a, (ip, port))\n",
    "    try:\n",
    "        soc.settimeout(15*(2**i))\n",
    "        data = soc.recvfrom(1500)\n",
    "    except socket.timeout:\n",
    "        print(\"error\")\n",
    "    else:\n",
    "        break\n"
   ]
  },
  {
   "cell_type": "code",
   "execution_count": 20,
   "id": "5a349156-2ea6-4a90-9b47-7cf3f5a50e60",
   "metadata": {},
   "outputs": [
    {
     "data": {
      "text/plain": [
       "(b\"\\x00\\x00\\x00\\x01\\x00\\x059\\xfb\\x00\\x00\\x06_\\x00\\x00\\x00\\x01\\x00\\x00\\x00)_#\\xec\\x12\\x00\\x00\\xd8\\xb5u\\x12\\xf8E\\xc66\\x84~\\xef\\x17\\xc1\\x8a\\xda\\xa0\\xe40\\xb7\\xc7\\xffb\\x84\\xdc\\xb7]\\xf0\\x8a\\xf6\\xf3\\xb4\\x8c\\x11q\\xc8\\xd5\\xb4\\x88P)I\\xfc\\xb3=\\xc5\\x05\\xbe\\xd0\\xb2.\\x7f\\x12\\xc8\\xd5\\xaf\\x98/\\xe6\\xe2\\xf3\\xaco\\xf7\\x83\\xf5\\x11\\xa3}\\xca\\x95Ua\\x9f\\xc40\\xcd\\xc8\\xd5\\x8c\\xe4\\x18\\xa4\\xe2\\x8e{\\xa2\\xd3\\xa3G\\x0f{v\\x0f^#'{t}zg\\xd3xU%_-zwV\\x9b\\xc1\\x1a\\xe1u\\x97\\xa4\\x8aO\\\\s\\xab\\xd8\\x9dA\\xf1r\\xdc\\xa5\\xbcQ\\xecqQ\\x15\\x1a0\\xa2o\\x00\\xeb\\xdc\\xe59k\\xbd\\x0e\\xc2\\x8e|c\\xe3t\\xda\\xc9\\xad_\\xa5c\\x14\\xc8\\xd5Y\\xb0\\xdf\\xd4WqSQ6!\\x1a\\xe3Ot\\x1e\\x96\\xfdJO,w1\\x825H\\xf1\\x1f\\xd0D\\x1dH\\r\\xd3b\\xc8\\xd5:\\xff\\xec\\xb5T\\x11:>]\\xca#'.\\x01\\x88\\xb9\\xc8\\xd5'Ri\\x91Z_#Jd\\xbd\\xc8\\xd6\\x1b\\xbbFD\\x84\\xdc\\x1b&J\\x9bUa\\x1b\\x14@\\xf6O\\\\\",\n",
       " ('45.154.253.8', 80))"
      ]
     },
     "execution_count": 20,
     "metadata": {},
     "output_type": "execute_result"
    }
   ],
   "source": [
    "data\n"
   ]
  },
  {
   "cell_type": "code",
   "execution_count": null,
   "id": "ca5c2036-a781-435c-b430-11b9679ffe93",
   "metadata": {},
   "outputs": [],
   "source": [
    "res.connection_id"
   ]
  },
  {
   "cell_type": "code",
   "execution_count": null,
   "id": "12909b7a-fea8-46b2-9aa7-2632dae06d4b",
   "metadata": {},
   "outputs": [],
   "source": [
    "asyn.close()\n"
   ]
  },
  {
   "cell_type": "code",
   "execution_count": null,
   "id": "6bccb8de-94df-4142-8fe0-22b2d9c331bd",
   "metadata": {},
   "outputs": [],
   "source": [
    "req.check_and_unpack_response(response)"
   ]
  },
  {
   "cell_type": "code",
   "execution_count": null,
   "id": "646c2c45-4710-4649-88f7-86b0ce167bf9",
   "metadata": {},
   "outputs": [],
   "source": [
    "import socket\n",
    "import struct\n",
    "peers_data = b[\"peers\"]\n",
    "\n",
    "peers = []\n",
    "for i in range(0, len(peers_data), 6):\n",
    "    ip = \".\".join([str(peers_data[ip_num]) for ip_num in range(i, i+4)])\n",
    "    port = struct.unpack('>H', peers_data[i+4:i+6])[0]\n",
    "    \n",
    "    peers.append({'ip': ip, 'port': port})\n",
    "\n",
    "peers"
   ]
  },
  {
   "cell_type": "code",
   "execution_count": null,
   "id": "fdf63b1c-eb35-4e47-8c13-17927591633b",
   "metadata": {},
   "outputs": [],
   "source": [
    "len(peers_bytes)/6"
   ]
  },
  {
   "cell_type": "code",
   "execution_count": null,
   "id": "eb485dca-282d-4745-85e4-6b0f2707f264",
   "metadata": {},
   "outputs": [],
   "source": [
    "from urllib import parse\n",
    "\n",
    "parse.urlparse(text)"
   ]
  },
  {
   "cell_type": "code",
   "execution_count": null,
   "id": "c2ef36c0-40de-4186-bc0a-0afa8d2d4ef3",
   "metadata": {},
   "outputs": [],
   "source": [
    "import asyncio\n",
    "lst = ['http://retracker.local/announce',\n",
    " 'http://tracker.filetracker.pl:8089/announce',\n",
    " 'http://tracker2.wasabii.com.tw:6969/announce',\n",
    " 'http://tracker.grepler.com:6969/announce',\n",
    " 'http://125.227.35.196:6969/announce',\n",
    " 'http://tracker.tiny-vps.com:6969/announce',\n",
    " 'http://87.248.186.252:8080/announce',\n",
    " 'http://210.244.71.25:6969/announce',\n",
    " 'http://46.4.109.148:6969/announce',\n",
    " 'http://tracker.dler.org:6969/announce']\n",
    "\n",
    "\n",
    "    \n",
    "\n",
    "async with aiohttp.ClientSession() as client:\n",
    "    \n",
    "    for url in lst:\n",
    "        try:\n",
    "            async with client.get(url) as r:\n",
    "                    print(r)\n",
    "        except:\n",
    "            print(url)\n",
    "\n",
    "            "
   ]
  },
  {
   "cell_type": "code",
   "execution_count": null,
   "id": "e05db2ea-8b0c-4b10-a40d-1643215e31d8",
   "metadata": {},
   "outputs": [],
   "source": [
    "await asyncio.gather(*[asyncio.sleep(1), asyncio.sleep(0.5)])\n",
    "\n"
   ]
  }
 ],
 "metadata": {
  "kernelspec": {
   "display_name": "Python 3 (ipykernel)",
   "language": "python",
   "name": "python3"
  },
  "language_info": {
   "codemirror_mode": {
    "name": "ipython",
    "version": 3
   },
   "file_extension": ".py",
   "mimetype": "text/x-python",
   "name": "python",
   "nbconvert_exporter": "python",
   "pygments_lexer": "ipython3",
   "version": "3.9.7"
  }
 },
 "nbformat": 4,
 "nbformat_minor": 5
}
