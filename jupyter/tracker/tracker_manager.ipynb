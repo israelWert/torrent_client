{
 "cells": [
  {
   "cell_type": "code",
   "execution_count": 1,
   "id": "5162e9e8-d2e3-4f3e-b5b0-971df360557c",
   "metadata": {},
   "outputs": [],
   "source": [
    "import os\n",
    "os.chdir(r\"C:\\Users\\Israel\\Documents\\code\\python\\torrent_client\")"
   ]
  },
  {
   "cell_type": "code",
   "execution_count": 2,
   "id": "edbd3149-0f13-472e-8b46-e301f1907aa3",
   "metadata": {},
   "outputs": [
    {
     "name": "stdout",
     "output_type": "stream",
     "text": [
      "torrent_client.client - INFO - 17 ************* start download *************\t\n",
      "torrent_client.client - INFO - 19 the file 2.torrent was decoded successfully\t\n",
      "torrent_client.client - INFO - 21 ************* end client *************\t\n"
     ]
    }
   ],
   "source": [
    "from torrent_client import client\n",
    "import importlib\n",
    "\n",
    "importlib.reload(client)\n",
    "c = client.Client(\"2.torrent\")\n",
    "file = c.download()\n"
   ]
  },
  {
   "cell_type": "code",
   "execution_count": 3,
   "id": "23ff0174-0f48-4d10-a02d-9ec8a1bfaad0",
   "metadata": {},
   "outputs": [],
   "source": [
    "from torrent_client.tracker.tracker_manager import TrackerManager\n",
    "from torrent_client.tracker.test.fakes.fake_tracker_bridge import FakeTrackerBridge\n",
    "tracker_manager = TrackerManager(bridge=FakeTrackerBridge(), file=file, peer_id=c.peer_id)"
   ]
  },
  {
   "cell_type": "code",
   "execution_count": 4,
   "id": "a8c7422a-a03c-4f48-9e16-fd20555cb1fe",
   "metadata": {},
   "outputs": [
    {
     "name": "stdout",
     "output_type": "stream",
     "text": [
      "torrent_client.tracker.tracker_factory - WARNING - 38 tracker udp://[2001:67c:28f8:92::1111:1]:2710 using ip6\t\n"
     ]
    }
   ],
   "source": [
    "tracker_manager.start_trackers()"
   ]
  },
  {
   "cell_type": "code",
   "execution_count": 12,
   "id": "a960c003-8bd4-45e7-a51d-de6518cd193f",
   "metadata": {},
   "outputs": [
    {
     "name": "stdout",
     "output_type": "stream",
     "text": [
      "torrent_client.tracker.tracker_manager - WARNING - 62 tracker was stopped with error \t\n",
      "torrent_client.tracker.tracker_manager - WARNING - 62 tracker was stopped with error \t\n",
      "[]\n",
      "torrent_client.tracker.tracker - WARNING - 103 tracker protocol raised error\t\n",
      "torrent_client.tracker.tracker - WARNING - 103 tracker protocol raised error\t\n",
      "torrent_client.tracker.tracker - WARNING - 103 tracker protocol raised error\t\n",
      "torrent_client.tracker.tracker - WARNING - 103 tracker protocol raised error\t\n",
      "torrent_client.tracker.tracker - WARNING - 103 tracker protocol raised error\t\n",
      "torrent_client.tracker.tracker - WARNING - 103 tracker protocol raised error\t\n",
      "torrent_client.tracker.tracker - WARNING - 103 tracker protocol raised error\t\n",
      "torrent_client.tracker.tracker - WARNING - 103 tracker protocol raised error\t\n",
      "torrent_client.tracker.tracker - WARNING - 103 tracker protocol raised error\t\n",
      "torrent_client.tracker.tracker - WARNING - 103 tracker protocol raised error\t\n"
     ]
    }
   ],
   "source": [
    "print(tracker_manager.get_peers())"
   ]
  },
  {
   "cell_type": "code",
   "execution_count": 6,
   "id": "0d620ca3-5030-4760-b83e-1f2de3e87946",
   "metadata": {},
   "outputs": [
    {
     "data": {
      "text/plain": [
       "['udp://tracker.openbittorrent.com:80/announce',\n",
       " 'udp://tracker.publicbt.com:80/announce',\n",
       " 'http://retracker.local/announce',\n",
       " 'http://tracker.filetracker.pl:8089/announce',\n",
       " 'http://tracker2.wasabii.com.tw:6969/announce',\n",
       " 'http://tracker.grepler.com:6969/announce',\n",
       " 'http://125.227.35.196:6969/announce',\n",
       " 'http://tracker.tiny-vps.com:6969/announce',\n",
       " 'http://87.248.186.252:8080/announce',\n",
       " 'http://210.244.71.25:6969/announce',\n",
       " 'http://46.4.109.148:6969/announce',\n",
       " 'udp://46.148.18.250:2710',\n",
       " 'http://tracker.dler.org:6969/announce',\n",
       " 'udp://[2001:67c:28f8:92::1111:1]:2710',\n",
       " 'udp://ipv6.leechers-paradise.org:6969']"
      ]
     },
     "execution_count": 6,
     "metadata": {},
     "output_type": "execute_result"
    }
   ],
   "source": [
    "file.announce_list"
   ]
  },
  {
   "cell_type": "code",
   "execution_count": 6,
   "id": "c42481e2-3b7f-4d65-8688-d54d346c8e21",
   "metadata": {},
   "outputs": [],
   "source": [
    "url = \"udp://tracker.openbittorrent.com:80/announce\"\n",
    "url = url.split(\"/\")[2]\n",
    "data = url.split(\":\")\n",
    "if len(data) != 2:\n",
    "    raise TrackerNotSportedError"
   ]
  },
  {
   "cell_type": "code",
   "execution_count": 9,
   "id": "6ce088a8-e67b-41cb-af0f-6bf6e0284168",
   "metadata": {},
   "outputs": [
    {
     "name": "stdout",
     "output_type": "stream",
     "text": [
      "b\"\\x83\\xf86\\x0c\\xed\\x9f\\x01\\xb4\\xa8'7Xz\\x19\\xda\\xf9\\x95%\\xb2\\xb4\"\n"
     ]
    }
   ],
   "source": [
    "print(tracker_manager._factory.peer_id)"
   ]
  },
  {
   "cell_type": "code",
   "execution_count": 12,
   "id": "d02c7184-7cfc-4a8f-8323-182ed24eb97f",
   "metadata": {},
   "outputs": [
    {
     "data": {
      "text/plain": [
       "'-PC0001-364478295087'"
      ]
     },
     "execution_count": 12,
     "metadata": {},
     "output_type": "execute_result"
    }
   ],
   "source": [
    "c.peer_id"
   ]
  },
  {
   "cell_type": "code",
   "execution_count": 13,
   "id": "46e8b43a-e39a-4c45-be4c-c9460b0d1c6b",
   "metadata": {},
   "outputs": [
    {
     "data": {
      "text/plain": [
       "20"
      ]
     },
     "execution_count": 13,
     "metadata": {},
     "output_type": "execute_result"
    }
   ],
   "source": [
    "len(\"-PC0001-364478295087\")"
   ]
  }
 ],
 "metadata": {
  "kernelspec": {
   "display_name": "Python 3 (ipykernel)",
   "language": "python",
   "name": "python3"
  },
  "language_info": {
   "codemirror_mode": {
    "name": "ipython",
    "version": 3
   },
   "file_extension": ".py",
   "mimetype": "text/x-python",
   "name": "python",
   "nbconvert_exporter": "python",
   "pygments_lexer": "ipython3",
   "version": "3.9.7"
  }
 },
 "nbformat": 4,
 "nbformat_minor": 5
}
